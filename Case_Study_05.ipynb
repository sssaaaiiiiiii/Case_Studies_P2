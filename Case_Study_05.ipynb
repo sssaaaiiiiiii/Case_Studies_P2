{
 "cells": [
  {
   "cell_type": "markdown",
   "id": "f309f1f2",
   "metadata": {},
   "source": [
    "# ANOVA"
   ]
  },
  {
   "cell_type": "code",
   "execution_count": 1,
   "id": "c0a3338c",
   "metadata": {},
   "outputs": [],
   "source": [
    "# Importing the necessary libraries\n",
    "import numpy as np\n",
    "import pandas as pd\n",
    "import matplotlib.pyplot as plt\n",
    "import seaborn as sns"
   ]
  },
  {
   "cell_type": "code",
   "execution_count": 2,
   "id": "065488c1",
   "metadata": {},
   "outputs": [],
   "source": [
    "# Read the data to Python environment\n",
    "data = pd.read_csv('Sales_data_zone_wise.csv')"
   ]
  },
  {
   "cell_type": "code",
   "execution_count": 3,
   "id": "3bd95e58",
   "metadata": {},
   "outputs": [
    {
     "data": {
      "text/html": [
       "<div>\n",
       "<style scoped>\n",
       "    .dataframe tbody tr th:only-of-type {\n",
       "        vertical-align: middle;\n",
       "    }\n",
       "\n",
       "    .dataframe tbody tr th {\n",
       "        vertical-align: top;\n",
       "    }\n",
       "\n",
       "    .dataframe thead th {\n",
       "        text-align: right;\n",
       "    }\n",
       "</style>\n",
       "<table border=\"1\" class=\"dataframe\">\n",
       "  <thead>\n",
       "    <tr style=\"text-align: right;\">\n",
       "      <th></th>\n",
       "      <th>Month</th>\n",
       "      <th>Zone - A</th>\n",
       "      <th>Zone - B</th>\n",
       "      <th>Zone - C</th>\n",
       "      <th>Zone - D</th>\n",
       "    </tr>\n",
       "  </thead>\n",
       "  <tbody>\n",
       "    <tr>\n",
       "      <th>0</th>\n",
       "      <td>Month - 1</td>\n",
       "      <td>1483525</td>\n",
       "      <td>1748451</td>\n",
       "      <td>1523308</td>\n",
       "      <td>2267260</td>\n",
       "    </tr>\n",
       "    <tr>\n",
       "      <th>1</th>\n",
       "      <td>Month - 2</td>\n",
       "      <td>1238428</td>\n",
       "      <td>1707421</td>\n",
       "      <td>2212113</td>\n",
       "      <td>1994341</td>\n",
       "    </tr>\n",
       "    <tr>\n",
       "      <th>2</th>\n",
       "      <td>Month - 3</td>\n",
       "      <td>1860771</td>\n",
       "      <td>2091194</td>\n",
       "      <td>1282374</td>\n",
       "      <td>1241600</td>\n",
       "    </tr>\n",
       "    <tr>\n",
       "      <th>3</th>\n",
       "      <td>Month - 4</td>\n",
       "      <td>1871571</td>\n",
       "      <td>1759617</td>\n",
       "      <td>2290580</td>\n",
       "      <td>2252681</td>\n",
       "    </tr>\n",
       "    <tr>\n",
       "      <th>4</th>\n",
       "      <td>Month - 5</td>\n",
       "      <td>1244922</td>\n",
       "      <td>1606010</td>\n",
       "      <td>1818334</td>\n",
       "      <td>1326062</td>\n",
       "    </tr>\n",
       "  </tbody>\n",
       "</table>\n",
       "</div>"
      ],
      "text/plain": [
       "       Month  Zone - A  Zone - B  Zone - C  Zone - D\n",
       "0  Month - 1   1483525   1748451   1523308   2267260\n",
       "1  Month - 2   1238428   1707421   2212113   1994341\n",
       "2  Month - 3   1860771   2091194   1282374   1241600\n",
       "3  Month - 4   1871571   1759617   2290580   2252681\n",
       "4  Month - 5   1244922   1606010   1818334   1326062"
      ]
     },
     "execution_count": 3,
     "metadata": {},
     "output_type": "execute_result"
    }
   ],
   "source": [
    "data.head()"
   ]
  },
  {
   "cell_type": "code",
   "execution_count": 4,
   "id": "50dbfb1c",
   "metadata": {},
   "outputs": [
    {
     "data": {
      "text/plain": [
       "(29, 5)"
      ]
     },
     "execution_count": 4,
     "metadata": {},
     "output_type": "execute_result"
    }
   ],
   "source": [
    "data.columns = ['Month','Zone-A','Zone-B','Zone-C','Zone-D']\n",
    "data.shape"
   ]
  },
  {
   "cell_type": "code",
   "execution_count": 5,
   "id": "f0ada68c",
   "metadata": {},
   "outputs": [
    {
     "data": {
      "text/html": [
       "<div>\n",
       "<style scoped>\n",
       "    .dataframe tbody tr th:only-of-type {\n",
       "        vertical-align: middle;\n",
       "    }\n",
       "\n",
       "    .dataframe tbody tr th {\n",
       "        vertical-align: top;\n",
       "    }\n",
       "\n",
       "    .dataframe thead th {\n",
       "        text-align: right;\n",
       "    }\n",
       "</style>\n",
       "<table border=\"1\" class=\"dataframe\">\n",
       "  <thead>\n",
       "    <tr style=\"text-align: right;\">\n",
       "      <th></th>\n",
       "      <th>Zone-A</th>\n",
       "      <th>Zone-B</th>\n",
       "      <th>Zone-C</th>\n",
       "      <th>Zone-D</th>\n",
       "    </tr>\n",
       "    <tr>\n",
       "      <th>Month</th>\n",
       "      <th></th>\n",
       "      <th></th>\n",
       "      <th></th>\n",
       "      <th></th>\n",
       "    </tr>\n",
       "  </thead>\n",
       "  <tbody>\n",
       "    <tr>\n",
       "      <th>Month - 1</th>\n",
       "      <td>1483525</td>\n",
       "      <td>1748451</td>\n",
       "      <td>1523308</td>\n",
       "      <td>2267260</td>\n",
       "    </tr>\n",
       "    <tr>\n",
       "      <th>Month - 2</th>\n",
       "      <td>1238428</td>\n",
       "      <td>1707421</td>\n",
       "      <td>2212113</td>\n",
       "      <td>1994341</td>\n",
       "    </tr>\n",
       "    <tr>\n",
       "      <th>Month - 3</th>\n",
       "      <td>1860771</td>\n",
       "      <td>2091194</td>\n",
       "      <td>1282374</td>\n",
       "      <td>1241600</td>\n",
       "    </tr>\n",
       "    <tr>\n",
       "      <th>Month - 4</th>\n",
       "      <td>1871571</td>\n",
       "      <td>1759617</td>\n",
       "      <td>2290580</td>\n",
       "      <td>2252681</td>\n",
       "    </tr>\n",
       "    <tr>\n",
       "      <th>Month - 5</th>\n",
       "      <td>1244922</td>\n",
       "      <td>1606010</td>\n",
       "      <td>1818334</td>\n",
       "      <td>1326062</td>\n",
       "    </tr>\n",
       "  </tbody>\n",
       "</table>\n",
       "</div>"
      ],
      "text/plain": [
       "            Zone-A   Zone-B   Zone-C   Zone-D\n",
       "Month                                        \n",
       "Month - 1  1483525  1748451  1523308  2267260\n",
       "Month - 2  1238428  1707421  2212113  1994341\n",
       "Month - 3  1860771  2091194  1282374  1241600\n",
       "Month - 4  1871571  1759617  2290580  2252681\n",
       "Month - 5  1244922  1606010  1818334  1326062"
      ]
     },
     "execution_count": 5,
     "metadata": {},
     "output_type": "execute_result"
    }
   ],
   "source": [
    "data = data.set_index('Month')\n",
    "data.head(5)"
   ]
  },
  {
   "cell_type": "code",
   "execution_count": 6,
   "id": "6839bc70",
   "metadata": {},
   "outputs": [
    {
     "name": "stdout",
     "output_type": "stream",
     "text": [
      "<class 'pandas.core.frame.DataFrame'>\n",
      "Index: 29 entries, Month - 1 to Month - 29\n",
      "Data columns (total 4 columns):\n",
      " #   Column  Non-Null Count  Dtype\n",
      "---  ------  --------------  -----\n",
      " 0   Zone-A  29 non-null     int64\n",
      " 1   Zone-B  29 non-null     int64\n",
      " 2   Zone-C  29 non-null     int64\n",
      " 3   Zone-D  29 non-null     int64\n",
      "dtypes: int64(4)\n",
      "memory usage: 1.1+ KB\n"
     ]
    }
   ],
   "source": [
    "data.info()"
   ]
  },
  {
   "cell_type": "code",
   "execution_count": 7,
   "id": "003bea12",
   "metadata": {},
   "outputs": [
    {
     "data": {
      "text/plain": [
       "Zone-A    0\n",
       "Zone-B    0\n",
       "Zone-C    0\n",
       "Zone-D    0\n",
       "dtype: int64"
      ]
     },
     "execution_count": 7,
     "metadata": {},
     "output_type": "execute_result"
    }
   ],
   "source": [
    "# Checking for Null values in the data\n",
    "data.isnull().sum()"
   ]
  },
  {
   "cell_type": "markdown",
   "id": "8525e4d8",
   "metadata": {},
   "source": [
    "There are no null values in this dataset"
   ]
  },
  {
   "cell_type": "code",
   "execution_count": 8,
   "id": "174574cd",
   "metadata": {},
   "outputs": [
    {
     "data": {
      "text/html": [
       "<div>\n",
       "<style scoped>\n",
       "    .dataframe tbody tr th:only-of-type {\n",
       "        vertical-align: middle;\n",
       "    }\n",
       "\n",
       "    .dataframe tbody tr th {\n",
       "        vertical-align: top;\n",
       "    }\n",
       "\n",
       "    .dataframe thead th {\n",
       "        text-align: right;\n",
       "    }\n",
       "</style>\n",
       "<table border=\"1\" class=\"dataframe\">\n",
       "  <thead>\n",
       "    <tr style=\"text-align: right;\">\n",
       "      <th></th>\n",
       "      <th>Zone-A</th>\n",
       "      <th>Zone-B</th>\n",
       "      <th>Zone-C</th>\n",
       "      <th>Zone-D</th>\n",
       "    </tr>\n",
       "  </thead>\n",
       "  <tbody>\n",
       "    <tr>\n",
       "      <th>count</th>\n",
       "      <td>29.00</td>\n",
       "      <td>29.00</td>\n",
       "      <td>29.00</td>\n",
       "      <td>29.00</td>\n",
       "    </tr>\n",
       "    <tr>\n",
       "      <th>mean</th>\n",
       "      <td>1540493.14</td>\n",
       "      <td>1755559.59</td>\n",
       "      <td>1772871.03</td>\n",
       "      <td>1842926.76</td>\n",
       "    </tr>\n",
       "    <tr>\n",
       "      <th>std</th>\n",
       "      <td>261940.06</td>\n",
       "      <td>168389.89</td>\n",
       "      <td>333193.72</td>\n",
       "      <td>375016.48</td>\n",
       "    </tr>\n",
       "    <tr>\n",
       "      <th>min</th>\n",
       "      <td>1128185.00</td>\n",
       "      <td>1527574.00</td>\n",
       "      <td>1237722.00</td>\n",
       "      <td>1234311.00</td>\n",
       "    </tr>\n",
       "    <tr>\n",
       "      <th>25%</th>\n",
       "      <td>1305972.00</td>\n",
       "      <td>1606010.00</td>\n",
       "      <td>1523308.00</td>\n",
       "      <td>1520406.00</td>\n",
       "    </tr>\n",
       "    <tr>\n",
       "      <th>50%</th>\n",
       "      <td>1534390.00</td>\n",
       "      <td>1740365.00</td>\n",
       "      <td>1767047.00</td>\n",
       "      <td>1854412.00</td>\n",
       "    </tr>\n",
       "    <tr>\n",
       "      <th>75%</th>\n",
       "      <td>1820196.00</td>\n",
       "      <td>1875658.00</td>\n",
       "      <td>2098463.00</td>\n",
       "      <td>2180416.00</td>\n",
       "    </tr>\n",
       "    <tr>\n",
       "      <th>max</th>\n",
       "      <td>2004480.00</td>\n",
       "      <td>2091194.00</td>\n",
       "      <td>2290580.00</td>\n",
       "      <td>2364132.00</td>\n",
       "    </tr>\n",
       "  </tbody>\n",
       "</table>\n",
       "</div>"
      ],
      "text/plain": [
       "           Zone-A      Zone-B      Zone-C      Zone-D\n",
       "count       29.00       29.00       29.00       29.00\n",
       "mean   1540493.14  1755559.59  1772871.03  1842926.76\n",
       "std     261940.06   168389.89   333193.72   375016.48\n",
       "min    1128185.00  1527574.00  1237722.00  1234311.00\n",
       "25%    1305972.00  1606010.00  1523308.00  1520406.00\n",
       "50%    1534390.00  1740365.00  1767047.00  1854412.00\n",
       "75%    1820196.00  1875658.00  2098463.00  2180416.00\n",
       "max    2004480.00  2091194.00  2290580.00  2364132.00"
      ]
     },
     "execution_count": 8,
     "metadata": {},
     "output_type": "execute_result"
    }
   ],
   "source": [
    "np.round(data.describe(),decimals=2) # The values rounded to 2 decimal places"
   ]
  },
  {
   "cell_type": "markdown",
   "id": "fc2ccf7b",
   "metadata": {},
   "source": [
    "# 1. The mean sales generated by each zone."
   ]
  },
  {
   "cell_type": "code",
   "execution_count": 9,
   "id": "8cfdbc82",
   "metadata": {},
   "outputs": [
    {
     "name": "stdout",
     "output_type": "stream",
     "text": [
      "Average sales generated by each Zone:\n"
     ]
    },
    {
     "data": {
      "text/html": [
       "<style type=\"text/css\">\n",
       "</style>\n",
       "<table id=\"T_52d1d_\">\n",
       "  <thead>\n",
       "    <tr>\n",
       "      <th class=\"col_heading level0 col0\" >Zones</th>\n",
       "      <th class=\"col_heading level0 col1\" >Avg Sales</th>\n",
       "    </tr>\n",
       "  </thead>\n",
       "  <tbody>\n",
       "    <tr>\n",
       "      <td id=\"T_52d1d_row0_col0\" class=\"data row0 col0\" >Zone-A</td>\n",
       "      <td id=\"T_52d1d_row0_col1\" class=\"data row0 col1\" >1540493.14</td>\n",
       "    </tr>\n",
       "    <tr>\n",
       "      <td id=\"T_52d1d_row1_col0\" class=\"data row1 col0\" >Zone-B</td>\n",
       "      <td id=\"T_52d1d_row1_col1\" class=\"data row1 col1\" >1755559.59</td>\n",
       "    </tr>\n",
       "    <tr>\n",
       "      <td id=\"T_52d1d_row2_col0\" class=\"data row2 col0\" >Zone-C</td>\n",
       "      <td id=\"T_52d1d_row2_col1\" class=\"data row2 col1\" >1772871.03</td>\n",
       "    </tr>\n",
       "    <tr>\n",
       "      <td id=\"T_52d1d_row3_col0\" class=\"data row3 col0\" >Zone-D</td>\n",
       "      <td id=\"T_52d1d_row3_col1\" class=\"data row3 col1\" >1842926.76</td>\n",
       "    </tr>\n",
       "  </tbody>\n",
       "</table>\n"
      ],
      "text/plain": [
       "<pandas.io.formats.style.Styler at 0x21a9706b070>"
      ]
     },
     "execution_count": 9,
     "metadata": {},
     "output_type": "execute_result"
    }
   ],
   "source": [
    " avg_sales = np.mean(data[['Zone-A','Zone-B','Zone-C','Zone-D']]).rename_axis('Zones').reset_index(name='Avg Sales')\n",
    "print('Average sales generated by each Zone:')\n",
    "avg_sales.style.format(precision=2).hide_index()"
   ]
  },
  {
   "cell_type": "code",
   "execution_count": 10,
   "id": "04b6233a",
   "metadata": {},
   "outputs": [
    {
     "data": {
      "image/png": "[encoded data removed]",
      "text/plain": [
       "<Figure size 720x360 with 1 Axes>"
      ]
     },
     "metadata": {
      "needs_background": "light"
     },
     "output_type": "display_data"
    }
   ],
   "source": [
    "# Plotting a line graph for the same\n",
    "plt.figure(figsize=(10,5))\n",
    "plt.plot(avg_sales['Avg Sales'])\n",
    "plt.title(\"Avg Sales generated by each Zone\",fontsize = 15)\n",
    "plt.xlabel('Zones',fontsize = 15)\n",
    "plt.ylabel('Average Sales',fontsize = 15)\n",
    "plt.xticks([0,1,2,3,],[\"Zone - A\",\"Zone - B\",'Zone - C','Zone - D'],fontsize = 14)\n",
    "plt.yticks(fontsize = 12)\n",
    "plt.ylim((1500000,1900000))\n",
    "plt.show()"
   ]
  },
  {
   "cell_type": "markdown",
   "id": "cc3c43af",
   "metadata": {},
   "source": [
    "*We can see that Zone-D generating the highest average Sales and Zone-A generating the least average Sales.\n"
   ]
  },
  {
   "cell_type": "markdown",
   "id": "4dc828c2",
   "metadata": {},
   "source": [
    "*The average sales generated by each zone is different."
   ]
  },
  {
   "cell_type": "markdown",
   "id": "df7aba64",
   "metadata": {},
   "source": [
    "# 2.Total sales generated by all the zones for each month."
   ]
  },
  {
   "cell_type": "code",
   "execution_count": 11,
   "id": "cf6f25b7",
   "metadata": {},
   "outputs": [
    {
     "data": {
      "text/html": [
       "<style type=\"text/css\">\n",
       "</style>\n",
       "<table id=\"T_14e1d_\">\n",
       "  <thead>\n",
       "    <tr>\n",
       "      <th class=\"col_heading level0 col0\" >Month</th>\n",
       "      <th class=\"col_heading level0 col1\" >Sales</th>\n",
       "    </tr>\n",
       "  </thead>\n",
       "  <tbody>\n",
       "    <tr>\n",
       "      <td id=\"T_14e1d_row0_col0\" class=\"data row0 col0\" >Month - 1</td>\n",
       "      <td id=\"T_14e1d_row0_col1\" class=\"data row0 col1\" >7022544</td>\n",
       "    </tr>\n",
       "    <tr>\n",
       "      <td id=\"T_14e1d_row1_col0\" class=\"data row1 col0\" >Month - 2</td>\n",
       "      <td id=\"T_14e1d_row1_col1\" class=\"data row1 col1\" >7152303</td>\n",
       "    </tr>\n",
       "    <tr>\n",
       "      <td id=\"T_14e1d_row2_col0\" class=\"data row2 col0\" >Month - 3</td>\n",
       "      <td id=\"T_14e1d_row2_col1\" class=\"data row2 col1\" >6475939</td>\n",
       "    </tr>\n",
       "    <tr>\n",
       "      <td id=\"T_14e1d_row3_col0\" class=\"data row3 col0\" >Month - 4</td>\n",
       "      <td id=\"T_14e1d_row3_col1\" class=\"data row3 col1\" >8174449</td>\n",
       "    </tr>\n",
       "    <tr>\n",
       "      <td id=\"T_14e1d_row4_col0\" class=\"data row4 col0\" >Month - 5</td>\n",
       "      <td id=\"T_14e1d_row4_col1\" class=\"data row4 col1\" >5995328</td>\n",
       "    </tr>\n",
       "    <tr>\n",
       "      <td id=\"T_14e1d_row5_col0\" class=\"data row5 col0\" >Month - 6</td>\n",
       "      <td id=\"T_14e1d_row5_col1\" class=\"data row5 col1\" >7151387</td>\n",
       "    </tr>\n",
       "    <tr>\n",
       "      <td id=\"T_14e1d_row6_col0\" class=\"data row6 col0\" >Month - 7</td>\n",
       "      <td id=\"T_14e1d_row6_col1\" class=\"data row6 col1\" >7287108</td>\n",
       "    </tr>\n",
       "    <tr>\n",
       "      <td id=\"T_14e1d_row7_col0\" class=\"data row7 col0\" >Month - 8</td>\n",
       "      <td id=\"T_14e1d_row7_col1\" class=\"data row7 col1\" >7816299</td>\n",
       "    </tr>\n",
       "    <tr>\n",
       "      <td id=\"T_14e1d_row8_col0\" class=\"data row8 col0\" >Month - 9</td>\n",
       "      <td id=\"T_14e1d_row8_col1\" class=\"data row8 col1\" >6703395</td>\n",
       "    </tr>\n",
       "    <tr>\n",
       "      <td id=\"T_14e1d_row9_col0\" class=\"data row9 col0\" >Month - 10</td>\n",
       "      <td id=\"T_14e1d_row9_col1\" class=\"data row9 col1\" >7128210</td>\n",
       "    </tr>\n",
       "    <tr>\n",
       "      <td id=\"T_14e1d_row10_col0\" class=\"data row10 col0\" >Month - 11</td>\n",
       "      <td id=\"T_14e1d_row10_col1\" class=\"data row10 col1\" >7032783</td>\n",
       "    </tr>\n",
       "    <tr>\n",
       "      <td id=\"T_14e1d_row11_col0\" class=\"data row11 col0\" >Month - 12</td>\n",
       "      <td id=\"T_14e1d_row11_col1\" class=\"data row11 col1\" >6111084</td>\n",
       "    </tr>\n",
       "    <tr>\n",
       "      <td id=\"T_14e1d_row12_col0\" class=\"data row12 col0\" >Month - 13</td>\n",
       "      <td id=\"T_14e1d_row12_col1\" class=\"data row12 col1\" >5925424</td>\n",
       "    </tr>\n",
       "    <tr>\n",
       "      <td id=\"T_14e1d_row13_col0\" class=\"data row13 col0\" >Month - 14</td>\n",
       "      <td id=\"T_14e1d_row13_col1\" class=\"data row13 col1\" >7155515</td>\n",
       "    </tr>\n",
       "    <tr>\n",
       "      <td id=\"T_14e1d_row14_col0\" class=\"data row14 col0\" >Month - 15</td>\n",
       "      <td id=\"T_14e1d_row14_col1\" class=\"data row14 col1\" >5934156</td>\n",
       "    </tr>\n",
       "    <tr>\n",
       "      <td id=\"T_14e1d_row15_col0\" class=\"data row15 col0\" >Month - 16</td>\n",
       "      <td id=\"T_14e1d_row15_col1\" class=\"data row15 col1\" >6506659</td>\n",
       "    </tr>\n",
       "    <tr>\n",
       "      <td id=\"T_14e1d_row16_col0\" class=\"data row16 col0\" >Month - 17</td>\n",
       "      <td id=\"T_14e1d_row16_col1\" class=\"data row16 col1\" >7149383</td>\n",
       "    </tr>\n",
       "    <tr>\n",
       "      <td id=\"T_14e1d_row17_col0\" class=\"data row17 col0\" >Month - 18</td>\n",
       "      <td id=\"T_14e1d_row17_col1\" class=\"data row17 col1\" >7083490</td>\n",
       "    </tr>\n",
       "    <tr>\n",
       "      <td id=\"T_14e1d_row18_col0\" class=\"data row18 col0\" >Month - 19</td>\n",
       "      <td id=\"T_14e1d_row18_col1\" class=\"data row18 col1\" >6971953</td>\n",
       "    </tr>\n",
       "    <tr>\n",
       "      <td id=\"T_14e1d_row19_col0\" class=\"data row19 col0\" >Month - 20</td>\n",
       "      <td id=\"T_14e1d_row19_col1\" class=\"data row19 col1\" >7124599</td>\n",
       "    </tr>\n",
       "    <tr>\n",
       "      <td id=\"T_14e1d_row20_col0\" class=\"data row20 col0\" >Month - 21</td>\n",
       "      <td id=\"T_14e1d_row20_col1\" class=\"data row20 col1\" >7389597</td>\n",
       "    </tr>\n",
       "    <tr>\n",
       "      <td id=\"T_14e1d_row21_col0\" class=\"data row21 col0\" >Month - 22</td>\n",
       "      <td id=\"T_14e1d_row21_col1\" class=\"data row21 col1\" >7560001</td>\n",
       "    </tr>\n",
       "    <tr>\n",
       "      <td id=\"T_14e1d_row22_col0\" class=\"data row22 col0\" >Month - 23</td>\n",
       "      <td id=\"T_14e1d_row22_col1\" class=\"data row22 col1\" >6687919</td>\n",
       "    </tr>\n",
       "    <tr>\n",
       "      <td id=\"T_14e1d_row23_col0\" class=\"data row23 col0\" >Month - 24</td>\n",
       "      <td id=\"T_14e1d_row23_col1\" class=\"data row23 col1\" >7784747</td>\n",
       "    </tr>\n",
       "    <tr>\n",
       "      <td id=\"T_14e1d_row24_col0\" class=\"data row24 col0\" >Month - 25</td>\n",
       "      <td id=\"T_14e1d_row24_col1\" class=\"data row24 col1\" >6095918</td>\n",
       "    </tr>\n",
       "    <tr>\n",
       "      <td id=\"T_14e1d_row25_col0\" class=\"data row25 col0\" >Month - 26</td>\n",
       "      <td id=\"T_14e1d_row25_col1\" class=\"data row25 col1\" >6512360</td>\n",
       "    </tr>\n",
       "    <tr>\n",
       "      <td id=\"T_14e1d_row26_col0\" class=\"data row26 col0\" >Month - 27</td>\n",
       "      <td id=\"T_14e1d_row26_col1\" class=\"data row26 col1\" >6267918</td>\n",
       "    </tr>\n",
       "    <tr>\n",
       "      <td id=\"T_14e1d_row27_col0\" class=\"data row27 col0\" >Month - 28</td>\n",
       "      <td id=\"T_14e1d_row27_col1\" class=\"data row27 col1\" >7470920</td>\n",
       "    </tr>\n",
       "    <tr>\n",
       "      <td id=\"T_14e1d_row28_col0\" class=\"data row28 col0\" >Month - 29</td>\n",
       "      <td id=\"T_14e1d_row28_col1\" class=\"data row28 col1\" >6772277</td>\n",
       "    </tr>\n",
       "  </tbody>\n",
       "</table>\n"
      ],
      "text/plain": [
       "<pandas.io.formats.style.Styler at 0x21a9706bd00>"
      ]
     },
     "execution_count": 11,
     "metadata": {},
     "output_type": "execute_result"
    }
   ],
   "source": [
    "# Calculating the total sum of sales for each month\n",
    "total_sales = data.sum(axis=1).rename_axis('Month').reset_index(name='Sales')\n",
    "total_sales.style.hide_index()"
   ]
  },
  {
   "cell_type": "code",
   "execution_count": 12,
   "id": "3d650935",
   "metadata": {},
   "outputs": [
    {
     "data": {
      "image/png": "[encoded data removed]",
      "text/plain": [
       "<Figure size 720x360 with 1 Axes>"
      ]
     },
     "metadata": {
      "needs_background": "light"
     },
     "output_type": "display_data"
    }
   ],
   "source": [
    "# Plotting a line graph for the sum of sales of each month \n",
    "plt.figure(figsize=(10,5))\n",
    "\n",
    "total_sales['avg'] = total_sales['Sales'].mean() # To draw 'Avgerage' line\n",
    "sns.lineplot(data = total_sales)\n",
    "\n",
    "plt.title('Total Sales generated by all the Zones for each month',fontsize = 15)\n",
    "plt.ylabel('Total Sales',fontsize = 12)\n",
    "plt.xticks(rotation = 90,fontsize = 12)\n",
    "plt.show()"
   ]
  },
  {
   "cell_type": "markdown",
   "id": "0b764dbc",
   "metadata": {},
   "source": [
    "We can see that the 'Month - 4' generated the highest Sales and 'Month - 13' the minimum.\n",
    "\n",
    "There is significance variation in the total sales generated by all the zones for each month."
   ]
  },
  {
   "cell_type": "markdown",
   "id": "9dd8452e",
   "metadata": {},
   "source": [
    "# 3.Check whether all the zones generate the same amount of sales."
   ]
  },
  {
   "cell_type": "code",
   "execution_count": 13,
   "id": "64ef66a8",
   "metadata": {},
   "outputs": [],
   "source": [
    "# Importing the necessary library to conduct one-way f-test\n",
    "import scipy\n",
    "from scipy.stats import f_oneway"
   ]
  },
  {
   "cell_type": "code",
   "execution_count": 14,
   "id": "4fee6172",
   "metadata": {},
   "outputs": [],
   "source": [
    "# Defining our Hypothesis for testing"
   ]
  },
  {
   "cell_type": "markdown",
   "id": "b550d8e2",
   "metadata": {},
   "source": [
    "Null Hypothesis H0 : μ1 = μ2 = μ3 = μ4, that means, all the means of different groups are equal\n",
    "Alternative Hypothesis Ha : at least one population mean is different from the rest"
   ]
  },
  {
   "cell_type": "code",
   "execution_count": 15,
   "id": "60a5be00",
   "metadata": {},
   "outputs": [],
   "source": [
    "# Set the alpha value or the Level of significance\n",
    "alpha = .05"
   ]
  },
  {
   "cell_type": "code",
   "execution_count": 16,
   "id": "451d2108",
   "metadata": {},
   "outputs": [],
   "source": [
    "Zone_A = np.array(data['Zone-A'])\n",
    "Zone_B = np.array(data['Zone-B'])\n",
    "Zone_C = np.array(data['Zone-C'])\n",
    "Zone_D = np.array(data['Zone-D'])"
   ]
  },
  {
   "cell_type": "code",
   "execution_count": 17,
   "id": "e02a0ef1",
   "metadata": {},
   "outputs": [
    {
     "name": "stdout",
     "output_type": "stream",
     "text": [
      "F-Statistics 5.672\n",
      "P-Value 0.001\n"
     ]
    }
   ],
   "source": [
    "# Calculating f-statistic and p-value\n",
    "F_stat, p_value = f_oneway(Zone_A,Zone_B,Zone_C,Zone_D)\n",
    "print('F-Statistics',\"%.3f\"% F_stat)\n",
    "print('P-Value',\"%.3f\"% p_value)"
   ]
  },
  {
   "cell_type": "code",
   "execution_count": 18,
   "id": "c78e263f",
   "metadata": {},
   "outputs": [
    {
     "name": "stdout",
     "output_type": "stream",
     "text": [
      "Reject null hypothesis\n"
     ]
    }
   ],
   "source": [
    "# Comparing the P-Value with our alpha value to test the significance of null hypothesis\n",
    "if p_value <= alpha:\n",
    "    print('Reject null hypothesis')\n",
    "else:\n",
    "    print('Accept null hypothesis')"
   ]
  },
  {
   "cell_type": "markdown",
   "id": "7bf8088a",
   "metadata": {},
   "source": [
    "The F test statistic is 5.672 and the corresponding P-value is 0.001. Since the P-value is less than .05, we reject the null hypothesis.\n",
    "\n",
    "This means that the average sale amounts generated by the Zones [Zone A, Zone B, Zone C, and Zone D] are different."
   ]
  },
  {
   "cell_type": "code",
   "execution_count": null,
   "id": "9189a163",
   "metadata": {},
   "outputs": [],
   "source": []
  }
 ],
 "metadata": {
  "kernelspec": {
   "display_name": "Python 3 (ipykernel)",
   "language": "python",
   "name": "python3"
  },
  "language_info": {
   "codemirror_mode": {
    "name": "ipython",
    "version": 3
   },
   "file_extension": ".py",
   "mimetype": "text/x-python",
   "name": "python",
   "nbconvert_exporter": "python",
   "pygments_lexer": "ipython3",
   "version": "3.9.7"
  }
 },
 "nbformat": 4,
 "nbformat_minor": 5
}
