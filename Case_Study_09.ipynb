{
 "cells": [
  {
   "cell_type": "markdown",
   "id": "9304e670",
   "metadata": {},
   "source": [
    "# Unsupervised Learning"
   ]
  },
  {
   "cell_type": "code",
   "execution_count": 1,
   "id": "d929bd87",
   "metadata": {},
   "outputs": [],
   "source": [
    "#importing needed libraries \n",
    "import numpy as np \n",
    "import pandas as pd \n",
    "import matplotlib.pyplot as plt\n",
    "import seaborn as sns\n",
    "import warnings\n",
    "warnings.filterwarnings('ignore')"
   ]
  },
  {
   "cell_type": "markdown",
   "id": "6f4a64c2",
   "metadata": {},
   "source": [
    "# 1. Reading the dataset to the python environment."
   ]
  },
  {
   "cell_type": "code",
   "execution_count": 2,
   "id": "f9d0d97a",
   "metadata": {},
   "outputs": [],
   "source": [
    "data = pd.read_csv('Wine.csv')"
   ]
  },
  {
   "cell_type": "code",
   "execution_count": 3,
   "id": "0b29c002",
   "metadata": {},
   "outputs": [
    {
     "data": {
      "text/html": [
       "<div>\n",
       "<style scoped>\n",
       "    .dataframe tbody tr th:only-of-type {\n",
       "        vertical-align: middle;\n",
       "    }\n",
       "\n",
       "    .dataframe tbody tr th {\n",
       "        vertical-align: top;\n",
       "    }\n",
       "\n",
       "    .dataframe thead th {\n",
       "        text-align: right;\n",
       "    }\n",
       "</style>\n",
       "<table border=\"1\" class=\"dataframe\">\n",
       "  <thead>\n",
       "    <tr style=\"text-align: right;\">\n",
       "      <th></th>\n",
       "      <th>Alcohol</th>\n",
       "      <th>Malic_Acid</th>\n",
       "      <th>Ash</th>\n",
       "      <th>Ash_Alcanity</th>\n",
       "      <th>Magnesium</th>\n",
       "      <th>Total_Phenols</th>\n",
       "      <th>Flavanoids</th>\n",
       "      <th>Nonflavanoid_Phenols</th>\n",
       "      <th>Proanthocyanins</th>\n",
       "      <th>Color_Intensity</th>\n",
       "      <th>Hue</th>\n",
       "      <th>OD280</th>\n",
       "      <th>Proline</th>\n",
       "    </tr>\n",
       "  </thead>\n",
       "  <tbody>\n",
       "    <tr>\n",
       "      <th>0</th>\n",
       "      <td>14.23</td>\n",
       "      <td>1.71</td>\n",
       "      <td>2.43</td>\n",
       "      <td>15.6</td>\n",
       "      <td>127</td>\n",
       "      <td>2.80</td>\n",
       "      <td>3.06</td>\n",
       "      <td>0.28</td>\n",
       "      <td>2.29</td>\n",
       "      <td>5.64</td>\n",
       "      <td>1.04</td>\n",
       "      <td>3.92</td>\n",
       "      <td>1065</td>\n",
       "    </tr>\n",
       "    <tr>\n",
       "      <th>1</th>\n",
       "      <td>13.20</td>\n",
       "      <td>1.78</td>\n",
       "      <td>2.14</td>\n",
       "      <td>11.2</td>\n",
       "      <td>100</td>\n",
       "      <td>2.65</td>\n",
       "      <td>2.76</td>\n",
       "      <td>0.26</td>\n",
       "      <td>1.28</td>\n",
       "      <td>4.38</td>\n",
       "      <td>1.05</td>\n",
       "      <td>3.40</td>\n",
       "      <td>1050</td>\n",
       "    </tr>\n",
       "    <tr>\n",
       "      <th>2</th>\n",
       "      <td>13.16</td>\n",
       "      <td>2.36</td>\n",
       "      <td>2.67</td>\n",
       "      <td>18.6</td>\n",
       "      <td>101</td>\n",
       "      <td>2.80</td>\n",
       "      <td>3.24</td>\n",
       "      <td>0.30</td>\n",
       "      <td>2.81</td>\n",
       "      <td>5.68</td>\n",
       "      <td>1.03</td>\n",
       "      <td>3.17</td>\n",
       "      <td>1185</td>\n",
       "    </tr>\n",
       "    <tr>\n",
       "      <th>3</th>\n",
       "      <td>14.37</td>\n",
       "      <td>1.95</td>\n",
       "      <td>2.50</td>\n",
       "      <td>16.8</td>\n",
       "      <td>113</td>\n",
       "      <td>3.85</td>\n",
       "      <td>3.49</td>\n",
       "      <td>0.24</td>\n",
       "      <td>2.18</td>\n",
       "      <td>7.80</td>\n",
       "      <td>0.86</td>\n",
       "      <td>3.45</td>\n",
       "      <td>1480</td>\n",
       "    </tr>\n",
       "    <tr>\n",
       "      <th>4</th>\n",
       "      <td>13.24</td>\n",
       "      <td>2.59</td>\n",
       "      <td>2.87</td>\n",
       "      <td>21.0</td>\n",
       "      <td>118</td>\n",
       "      <td>2.80</td>\n",
       "      <td>2.69</td>\n",
       "      <td>0.39</td>\n",
       "      <td>1.82</td>\n",
       "      <td>4.32</td>\n",
       "      <td>1.04</td>\n",
       "      <td>2.93</td>\n",
       "      <td>735</td>\n",
       "    </tr>\n",
       "  </tbody>\n",
       "</table>\n",
       "</div>"
      ],
      "text/plain": [
       "   Alcohol  Malic_Acid   Ash  Ash_Alcanity  Magnesium  Total_Phenols  \\\n",
       "0    14.23        1.71  2.43          15.6        127           2.80   \n",
       "1    13.20        1.78  2.14          11.2        100           2.65   \n",
       "2    13.16        2.36  2.67          18.6        101           2.80   \n",
       "3    14.37        1.95  2.50          16.8        113           3.85   \n",
       "4    13.24        2.59  2.87          21.0        118           2.80   \n",
       "\n",
       "   Flavanoids  Nonflavanoid_Phenols  Proanthocyanins  Color_Intensity   Hue  \\\n",
       "0        3.06                  0.28             2.29             5.64  1.04   \n",
       "1        2.76                  0.26             1.28             4.38  1.05   \n",
       "2        3.24                  0.30             2.81             5.68  1.03   \n",
       "3        3.49                  0.24             2.18             7.80  0.86   \n",
       "4        2.69                  0.39             1.82             4.32  1.04   \n",
       "\n",
       "   OD280  Proline  \n",
       "0   3.92     1065  \n",
       "1   3.40     1050  \n",
       "2   3.17     1185  \n",
       "3   3.45     1480  \n",
       "4   2.93      735  "
      ]
     },
     "execution_count": 3,
     "metadata": {},
     "output_type": "execute_result"
    }
   ],
   "source": [
    "data.head()"
   ]
  },
  {
   "cell_type": "code",
   "execution_count": 4,
   "id": "6d28eb37",
   "metadata": {},
   "outputs": [
    {
     "data": {
      "text/plain": [
       "(178, 13)"
      ]
     },
     "execution_count": 4,
     "metadata": {},
     "output_type": "execute_result"
    }
   ],
   "source": [
    "# Checking the shape of the data set\n",
    "data.shape"
   ]
  },
  {
   "cell_type": "code",
   "execution_count": 5,
   "id": "28324868",
   "metadata": {},
   "outputs": [
    {
     "name": "stdout",
     "output_type": "stream",
     "text": [
      "<class 'pandas.core.frame.DataFrame'>\n",
      "RangeIndex: 178 entries, 0 to 177\n",
      "Data columns (total 13 columns):\n",
      " #   Column                Non-Null Count  Dtype  \n",
      "---  ------                --------------  -----  \n",
      " 0   Alcohol               178 non-null    float64\n",
      " 1   Malic_Acid            178 non-null    float64\n",
      " 2   Ash                   178 non-null    float64\n",
      " 3   Ash_Alcanity          178 non-null    float64\n",
      " 4   Magnesium             178 non-null    int64  \n",
      " 5   Total_Phenols         178 non-null    float64\n",
      " 6   Flavanoids            178 non-null    float64\n",
      " 7   Nonflavanoid_Phenols  178 non-null    float64\n",
      " 8   Proanthocyanins       178 non-null    float64\n",
      " 9   Color_Intensity       178 non-null    float64\n",
      " 10  Hue                   178 non-null    float64\n",
      " 11  OD280                 178 non-null    float64\n",
      " 12  Proline               178 non-null    int64  \n",
      "dtypes: float64(11), int64(2)\n",
      "memory usage: 18.2 KB\n"
     ]
    }
   ],
   "source": [
    "data.info()"
   ]
  },
  {
   "cell_type": "code",
   "execution_count": 6,
   "id": "2be17996",
   "metadata": {},
   "outputs": [
    {
     "data": {
      "text/plain": [
       "Alcohol                 0\n",
       "Malic_Acid              0\n",
       "Ash                     0\n",
       "Ash_Alcanity            0\n",
       "Magnesium               0\n",
       "Total_Phenols           0\n",
       "Flavanoids              0\n",
       "Nonflavanoid_Phenols    0\n",
       "Proanthocyanins         0\n",
       "Color_Intensity         0\n",
       "Hue                     0\n",
       "OD280                   0\n",
       "Proline                 0\n",
       "dtype: int64"
      ]
     },
     "execution_count": 6,
     "metadata": {},
     "output_type": "execute_result"
    }
   ],
   "source": [
    "# Checking for Null values in the data set\n",
    "data.isnull().sum()"
   ]
  },
  {
   "cell_type": "markdown",
   "id": "7569f2f4",
   "metadata": {},
   "source": [
    "No null values here"
   ]
  },
  {
   "cell_type": "code",
   "execution_count": 7,
   "id": "9124f624",
   "metadata": {},
   "outputs": [
    {
     "data": {
      "text/plain": [
       "Index(['Alcohol', 'Malic_Acid', 'Ash', 'Ash_Alcanity', 'Magnesium',\n",
       "       'Total_Phenols', 'Flavanoids', 'Nonflavanoid_Phenols',\n",
       "       'Proanthocyanins', 'Color_Intensity', 'Hue', 'OD280', 'Proline'],\n",
       "      dtype='object')"
      ]
     },
     "execution_count": 7,
     "metadata": {},
     "output_type": "execute_result"
    }
   ],
   "source": [
    "# Checking for outliers\n",
    "data.columns"
   ]
  },
  {
   "cell_type": "code",
   "execution_count": 8,
   "id": "4e27ce09",
   "metadata": {},
   "outputs": [
    {
     "data": {
      "image/png": "[encoded data removed]",
      "text/plain": [
       "<Figure size 1080x1080 with 13 Axes>"
      ]
     },
     "metadata": {
      "needs_background": "light"
     },
     "output_type": "display_data"
    }
   ],
   "source": [
    "# Ploting box plot to find outliers, if any.\n",
    "plt.figure(figsize=(15,15))\n",
    "\n",
    "for i,feature in enumerate(data.columns):\n",
    "    plt.subplot(4,4,i+1)\n",
    "    plt.boxplot(data[feature])\n",
    "    plt.title(feature)"
   ]
  },
  {
   "cell_type": "markdown",
   "id": "5cd4d854",
   "metadata": {},
   "source": [
    "Outliers are detected in Malic_Acid, Ash, Ash_Alcanity, Magnesium, Proanthocyanins, Color_Intensity, and Hue columns.\n",
    "we can resolve this by imputing the outlier values with IQR."
   ]
  },
  {
   "cell_type": "code",
   "execution_count": 9,
   "id": "fc79a4b5",
   "metadata": {},
   "outputs": [
    {
     "name": "stdout",
     "output_type": "stream",
     "text": [
      "The no:of outliers present in the Malic_Acid column: 3\n"
     ]
    }
   ],
   "source": [
    "# Checking the outliers in Malic_Acid column\n",
    "Q1 = np.percentile(data['Malic_Acid'], 25, interpolation = 'midpoint')\n",
    "Q2 = np.percentile(data['Malic_Acid'], 50, interpolation = 'midpoint')\n",
    "Q3 = np.percentile(data['Malic_Acid'], 75, interpolation = 'midpoint')\n",
    "\n",
    "IQR = Q3 - Q1\n",
    "\n",
    "low_limit = Q1 - 1.5 * IQR\n",
    "upp_limit = Q3 + 1.5 * IQR\n",
    "\n",
    "outlier = []\n",
    "\n",
    "for i in data['Malic_Acid']:\n",
    "    if ((i < low_limit) or ( i > upp_limit )):\n",
    "        outlier.append(i)\n",
    "\n",
    "print('The no:of outliers present in the Malic_Acid column:',len(outlier))"
   ]
  },
  {
   "cell_type": "code",
   "execution_count": 10,
   "id": "53be48c5",
   "metadata": {},
   "outputs": [],
   "source": [
    "data['Malic_Acid'] = np.where(data['Malic_Acid'] > upp_limit , upp_limit , np.where(data['Malic_Acid'] < low_limit, low_limit, data['Malic_Acid']))"
   ]
  },
  {
   "cell_type": "code",
   "execution_count": 11,
   "id": "d0c650fc",
   "metadata": {},
   "outputs": [
    {
     "name": "stdout",
     "output_type": "stream",
     "text": [
      "The no:of outliers present in the Ash column: 3\n"
     ]
    }
   ],
   "source": [
    "# Checking the outliers in Ash column\n",
    "Q1 = np.percentile(data['Ash'], 25, interpolation = 'midpoint')\n",
    "Q2 = np.percentile(data['Ash'], 50, interpolation = 'midpoint')\n",
    "Q3 = np.percentile(data['Ash'], 75, interpolation = 'midpoint')\n",
    "\n",
    "IQR = Q3 - Q1\n",
    "\n",
    "low_limit = Q1 - 1.5 * IQR\n",
    "upp_limit = Q3 + 1.5 * IQR\n",
    "\n",
    "outlier = []\n",
    "\n",
    "for i in data['Ash']:\n",
    "    if ((i < low_limit) or ( i > upp_limit )):\n",
    "        outlier.append(i)\n",
    "\n",
    "print('The no:of outliers present in the Ash column:',len(outlier))"
   ]
  },
  {
   "cell_type": "code",
   "execution_count": 12,
   "id": "e0e6bafc",
   "metadata": {},
   "outputs": [],
   "source": [
    "data['Ash'] = np.where(data['Ash'] > upp_limit , upp_limit , np.where(data['Ash'] < low_limit, low_limit, data['Ash']))"
   ]
  },
  {
   "cell_type": "code",
   "execution_count": 13,
   "id": "b9eec9af",
   "metadata": {},
   "outputs": [
    {
     "name": "stdout",
     "output_type": "stream",
     "text": [
      "The no:of outliers present in the Ash_Alcanity column: 4\n"
     ]
    }
   ],
   "source": [
    "# Checking the outliers in Ash_Alcanity column\n",
    "Q1 = np.percentile(data['Ash_Alcanity'], 25, interpolation = 'midpoint')\n",
    "Q2 = np.percentile(data['Ash_Alcanity'], 50, interpolation = 'midpoint')\n",
    "Q3 = np.percentile(data['Ash_Alcanity'], 75, interpolation = 'midpoint')\n",
    "\n",
    "IQR = Q3 - Q1\n",
    "\n",
    "low_limit = Q1 - 1.5 * IQR\n",
    "upp_limit = Q3 + 1.5 * IQR\n",
    "\n",
    "outlier = []\n",
    "\n",
    "for i in data['Ash_Alcanity']:\n",
    "    if ((i < low_limit) or ( i > upp_limit )):\n",
    "        outlier.append(i)\n",
    "\n",
    "print('The no:of outliers present in the Ash_Alcanity column:',len(outlier))"
   ]
  },
  {
   "cell_type": "code",
   "execution_count": 14,
   "id": "5e6d07b9",
   "metadata": {},
   "outputs": [],
   "source": [
    "data['Ash_Alcanity'] = np.where(data['Ash_Alcanity'] > upp_limit , upp_limit , np.where(data['Ash_Alcanity'] < low_limit, low_limit, data['Ash_Alcanity']))"
   ]
  },
  {
   "cell_type": "code",
   "execution_count": 15,
   "id": "c9bac4d4",
   "metadata": {},
   "outputs": [
    {
     "name": "stdout",
     "output_type": "stream",
     "text": [
      "The no:of outliers present in the Magnesium column: 4\n"
     ]
    }
   ],
   "source": [
    "# Checking the outliers in Magnesium column\n",
    "Q1 = np.percentile(data['Magnesium'], 25, interpolation = 'midpoint')\n",
    "Q2 = np.percentile(data['Magnesium'], 50, interpolation = 'midpoint')\n",
    "Q3 = np.percentile(data['Magnesium'], 75, interpolation = 'midpoint')\n",
    "\n",
    "IQR = Q3 - Q1\n",
    "\n",
    "low_limit = Q1 - 1.5 * IQR\n",
    "upp_limit = Q3 + 1.5 * IQR\n",
    "\n",
    "outlier = []\n",
    "\n",
    "for i in data['Magnesium']:\n",
    "    if ((i < low_limit) or ( i > upp_limit )):\n",
    "        outlier.append(i)\n",
    "\n",
    "print('The no:of outliers present in the Magnesium column:',len(outlier))"
   ]
  },
  {
   "cell_type": "code",
   "execution_count": 16,
   "id": "5f699a69",
   "metadata": {},
   "outputs": [],
   "source": [
    "data['Magnesium'] = np.where(data['Magnesium'] > upp_limit , upp_limit , np.where(data['Magnesium'] < low_limit, low_limit, data['Magnesium']))"
   ]
  },
  {
   "cell_type": "code",
   "execution_count": 17,
   "id": "d4c5066d",
   "metadata": {},
   "outputs": [
    {
     "name": "stdout",
     "output_type": "stream",
     "text": [
      "The no:of outliers present in the Proanthocyanins column: 2\n"
     ]
    }
   ],
   "source": [
    "# Checking the outliers in Proanthocyanins column\n",
    "Q1 = np.percentile(data['Proanthocyanins'], 25, interpolation = 'midpoint')\n",
    "Q2 = np.percentile(data['Proanthocyanins'], 50, interpolation = 'midpoint')\n",
    "Q3 = np.percentile(data['Proanthocyanins'], 75, interpolation = 'midpoint')\n",
    "\n",
    "IQR = Q3 - Q1\n",
    "\n",
    "low_limit = Q1 - 1.5 * IQR\n",
    "upp_limit = Q3 + 1.5 * IQR\n",
    "\n",
    "outlier = []\n",
    "\n",
    "for i in data['Proanthocyanins']:\n",
    "    if ((i < low_limit) or ( i > upp_limit )):\n",
    "        outlier.append(i)\n",
    "\n",
    "print('The no:of outliers present in the Proanthocyanins column:',len(outlier))"
   ]
  },
  {
   "cell_type": "code",
   "execution_count": 18,
   "id": "f3ac7466",
   "metadata": {},
   "outputs": [],
   "source": [
    "data['Proanthocyanins'] = np.where(data['Proanthocyanins'] > upp_limit , upp_limit , np.where(data['Proanthocyanins'] < low_limit, low_limit, data['Proanthocyanins']))"
   ]
  },
  {
   "cell_type": "code",
   "execution_count": 19,
   "id": "dabcfa95",
   "metadata": {},
   "outputs": [
    {
     "name": "stdout",
     "output_type": "stream",
     "text": [
      "The no:of outliers present in the Color_Intensity column: 4\n"
     ]
    }
   ],
   "source": [
    "# Checking the outliers in Color_Intensity column\n",
    "Q1 = np.percentile(data['Color_Intensity'], 25, interpolation = 'midpoint')\n",
    "Q2 = np.percentile(data['Color_Intensity'], 50, interpolation = 'midpoint')\n",
    "Q3 = np.percentile(data['Color_Intensity'], 75, interpolation = 'midpoint')\n",
    "\n",
    "IQR = Q3 - Q1\n",
    "\n",
    "low_limit = Q1 - 1.5 * IQR\n",
    "upp_limit = Q3 + 1.5 * IQR\n",
    "\n",
    "outlier = []\n",
    "\n",
    "for i in data['Color_Intensity']:\n",
    "    if ((i < low_limit) or ( i > upp_limit )):\n",
    "        outlier.append(i)\n",
    "\n",
    "print('The no:of outliers present in the Color_Intensity column:',len(outlier))"
   ]
  },
  {
   "cell_type": "code",
   "execution_count": 20,
   "id": "dca0343f",
   "metadata": {},
   "outputs": [],
   "source": [
    "data['Color_Intensity'] = np.where(data['Color_Intensity'] > upp_limit , upp_limit , np.where(data['Color_Intensity'] < low_limit, low_limit, data['Color_Intensity']))"
   ]
  },
  {
   "cell_type": "code",
   "execution_count": 21,
   "id": "e6901b0f",
   "metadata": {},
   "outputs": [
    {
     "name": "stdout",
     "output_type": "stream",
     "text": [
      "The no:of outliers present in the Hue column: 1\n"
     ]
    }
   ],
   "source": [
    "# Checking the outliers in Hue column\n",
    "Q1 = np.percentile(data['Hue'], 25, interpolation = 'midpoint')\n",
    "Q2 = np.percentile(data['Hue'], 50, interpolation = 'midpoint')\n",
    "Q3 = np.percentile(data['Hue'], 75, interpolation = 'midpoint')\n",
    "\n",
    "IQR = Q3 - Q1\n",
    "\n",
    "low_limit = Q1 - 1.5 * IQR\n",
    "upp_limit = Q3 + 1.5 * IQR\n",
    "\n",
    "outlier = []\n",
    "\n",
    "for i in data['Hue']:\n",
    "    if ((i < low_limit) or ( i > upp_limit )):\n",
    "        outlier.append(i)\n",
    "\n",
    "print('The no:of outliers present in the Hue column:',len(outlier))"
   ]
  },
  {
   "cell_type": "code",
   "execution_count": 22,
   "id": "6909ab1f",
   "metadata": {},
   "outputs": [],
   "source": [
    "data['Hue'] = np.where(data['Hue'] > upp_limit , upp_limit , np.where(data['Hue'] < low_limit, low_limit, data['Hue']))"
   ]
  },
  {
   "cell_type": "code",
   "execution_count": 23,
   "id": "bf91f875",
   "metadata": {},
   "outputs": [
    {
     "data": {
      "image/png": "[encoded data removed]",
      "text/plain": [
       "<Figure size 1080x1080 with 7 Axes>"
      ]
     },
     "metadata": {
      "needs_background": "light"
     },
     "output_type": "display_data"
    }
   ],
   "source": [
    "# Re-Checking the data set after handling the outliers\n",
    "columns = ['Malic_Acid', 'Ash', 'Ash_Alcanity', 'Magnesium', 'Proanthocyanins', 'Color_Intensity', 'Hue']\n",
    "plt.figure(figsize=(15,15))\n",
    "for i,feature in enumerate(columns):\n",
    "    plt.subplot(3,3,i+1)\n",
    "    plt.boxplot(data[feature])\n",
    "    plt.title(feature)"
   ]
  },
  {
   "cell_type": "markdown",
   "id": "68c6da9a",
   "metadata": {},
   "source": [
    "Now there are no outliers present in our dataset"
   ]
  },
  {
   "cell_type": "code",
   "execution_count": 24,
   "id": "a3698c6b",
   "metadata": {},
   "outputs": [],
   "source": [
    "df = pd.DataFrame(data.values)\n",
    "from sklearn.preprocessing import Normalizer\n",
    "norm =Normalizer()\n",
    "df_norm = norm.fit_transform(df)"
   ]
  },
  {
   "cell_type": "markdown",
   "id": "61362f2d",
   "metadata": {},
   "source": [
    "# 2. Try out different clustering models in the wine dataset."
   ]
  },
  {
   "cell_type": "markdown",
   "id": "0c73a582",
   "metadata": {},
   "source": [
    "### 1.K-Means Clustering"
   ]
  },
  {
   "cell_type": "code",
   "execution_count": 25,
   "id": "6aa45a7a",
   "metadata": {},
   "outputs": [
    {
     "data": {
      "text/plain": [
       "array([1, 6, 6, 3, 4, 3, 3, 6, 6, 6, 3, 3, 3, 3, 3, 6, 6, 6, 3, 7, 4, 7,\n",
       "       6, 6, 1, 7, 3, 3, 1, 6, 3, 3, 6, 6, 6, 1, 1, 6, 6, 4, 7, 6, 6, 7,\n",
       "       1, 6, 6, 6, 6, 6, 3, 3, 6, 3, 1, 6, 1, 3, 3, 4, 7, 5, 7, 5, 2, 7,\n",
       "       4, 4, 7, 0, 1, 5, 0, 7, 1, 5, 5, 5, 0, 5, 2, 1, 1, 4, 0, 5, 0, 4,\n",
       "       1, 1, 4, 0, 4, 2, 2, 7, 5, 0, 7, 5, 7, 4, 5, 5, 1, 2, 4, 4, 2, 7,\n",
       "       0, 2, 4, 5, 5, 5, 4, 2, 5, 4, 4, 2, 2, 5, 5, 5, 5, 0, 2, 7, 0, 0,\n",
       "       0, 0, 7, 7, 1, 0, 4, 4, 4, 1, 0, 4, 7, 1, 0, 7, 7, 0, 5, 5, 2, 7,\n",
       "       4, 1, 0, 1, 7, 7, 4, 4, 0, 4, 7, 4, 4, 7, 7, 0, 0, 0, 7, 1, 7, 7,\n",
       "       7, 4])"
      ]
     },
     "execution_count": 25,
     "metadata": {},
     "output_type": "execute_result"
    }
   ],
   "source": [
    "from sklearn.cluster import KMeans\n",
    "kMeans = KMeans(random_state=42)\n",
    "label_kMeans = kMeans.fit_predict(df_norm)\n",
    "label_kMeans"
   ]
  },
  {
   "cell_type": "markdown",
   "id": "156ddab3",
   "metadata": {},
   "source": [
    "Here we obtained 8 clusteres for the data set."
   ]
  },
  {
   "cell_type": "markdown",
   "id": "8313aff0",
   "metadata": {},
   "source": [
    "### 2. Hierarchial Clustering"
   ]
  },
  {
   "cell_type": "code",
   "execution_count": 26,
   "id": "f86f0597",
   "metadata": {},
   "outputs": [],
   "source": [
    "# Here we use Agglomerative Clustering  \n",
    "from sklearn.cluster import AgglomerativeClustering"
   ]
  },
  {
   "cell_type": "code",
   "execution_count": 27,
   "id": "3daae092",
   "metadata": {},
   "outputs": [
    {
     "data": {
      "text/plain": [
       "array([0, 0, 0, 0, 0, 0, 0, 0, 0, 0, 0, 0, 0, 0, 0, 0, 0, 0, 0, 0, 0, 0,\n",
       "       0, 0, 0, 0, 0, 0, 0, 0, 0, 0, 0, 0, 0, 0, 0, 0, 0, 0, 0, 0, 0, 0,\n",
       "       0, 0, 0, 0, 0, 0, 0, 0, 0, 0, 0, 0, 0, 0, 0, 0, 0, 1, 0, 1, 1, 0,\n",
       "       0, 0, 0, 0, 0, 1, 0, 0, 0, 1, 1, 1, 0, 1, 1, 0, 0, 0, 0, 1, 0, 0,\n",
       "       0, 0, 0, 0, 0, 1, 1, 0, 1, 0, 0, 1, 0, 0, 1, 1, 0, 1, 0, 0, 1, 0,\n",
       "       0, 1, 0, 1, 1, 1, 0, 1, 1, 0, 0, 1, 1, 1, 1, 1, 1, 1, 1, 0, 0, 0,\n",
       "       0, 0, 0, 0, 0, 0, 0, 0, 0, 0, 0, 0, 0, 0, 0, 0, 0, 0, 1, 1, 1, 0,\n",
       "       0, 0, 0, 0, 0, 0, 0, 0, 0, 0, 0, 0, 0, 0, 0, 0, 0, 0, 0, 0, 0, 0,\n",
       "       0, 0], dtype=int64)"
      ]
     },
     "execution_count": 27,
     "metadata": {},
     "output_type": "execute_result"
    }
   ],
   "source": [
    "# We use the dafault AgglomerativeClustering parameters\n",
    "hc = AgglomerativeClustering()\n",
    "label_hc = hc.fit_predict(df_norm)\n",
    "label_hc"
   ]
  },
  {
   "cell_type": "markdown",
   "id": "d09c2b64",
   "metadata": {},
   "source": [
    "Each number represnt the respective cluster. So we can see model created two clusteres."
   ]
  },
  {
   "cell_type": "markdown",
   "id": "a2f3944d",
   "metadata": {},
   "source": [
    "# 3. Find the optimum number of clusters in each model and create the model with the optimum number of clusters."
   ]
  },
  {
   "cell_type": "markdown",
   "id": "f4260f0d",
   "metadata": {},
   "source": [
    "## A. K-Means Clustering"
   ]
  },
  {
   "cell_type": "code",
   "execution_count": 28,
   "id": "5019024f",
   "metadata": {},
   "outputs": [
    {
     "data": {
      "image/png": "[encoded data removed]",
      "text/plain": [
       "<Figure size 1080x360 with 2 Axes>"
      ]
     },
     "metadata": {
      "needs_background": "light"
     },
     "output_type": "display_data"
    }
   ],
   "source": [
    "from sklearn.cluster import KMeans\n",
    "from sklearn.metrics import silhouette_score\n",
    "\n",
    "#Use elbow method and silhouette score to get optimal number of clusters\n",
    "wcss = []\n",
    "scores = []\n",
    "\n",
    "for i in range(2,11):\n",
    "    kmeans = KMeans(n_clusters=i,init='k-means++',random_state=42)\n",
    "    model=kmeans.fit(df_norm)\n",
    "    wcss.append(kmeans.inertia_)\n",
    "    labels = model.predict(df_norm)\n",
    "    sil_score = silhouette_score(df_norm,labels)\n",
    "    scores.append(sil_score)\n",
    "\n",
    "plt.figure(figsize = (15,5))\n",
    "\n",
    "plt.subplot(1,2,1)\n",
    "plt.plot(range(2,11),wcss,'-o')\n",
    "plt.title('The Elbow Method')\n",
    "plt.xlabel('Number of Clusters')\n",
    "plt.ylabel('WCSS')\n",
    "\n",
    "plt.subplot(1,2,2)\n",
    "plt.plot(range(2,11),scores,'-o')\n",
    "plt.title('Silhouette Scores')\n",
    "plt.xlabel('Number of Clusters')\n",
    "plt.ylabel('Silhouette Score')\n",
    "\n",
    "plt.tight_layout()\n",
    "\n",
    "plt.show() "
   ]
  },
  {
   "cell_type": "code",
   "execution_count": 29,
   "id": "fce7e333",
   "metadata": {},
   "outputs": [],
   "source": [
    "# from the above graphs we can find that 3 is the optimum number of clusters that we can make using K-Means"
   ]
  },
  {
   "cell_type": "code",
   "execution_count": 30,
   "id": "42cf3317",
   "metadata": {},
   "outputs": [
    {
     "name": "stdout",
     "output_type": "stream",
     "text": [
      "The predicted clusteres label for our data:\n"
     ]
    },
    {
     "data": {
      "text/plain": [
       "array([2, 2, 2, 2, 1, 2, 2, 2, 2, 2, 2, 2, 2, 2, 2, 2, 2, 2, 2, 1, 1, 1,\n",
       "       2, 2, 2, 1, 2, 2, 2, 2, 2, 2, 2, 2, 2, 2, 2, 2, 2, 1, 1, 2, 2, 1,\n",
       "       2, 2, 2, 2, 2, 2, 2, 2, 2, 2, 2, 2, 2, 2, 2, 1, 1, 0, 1, 0, 0, 1,\n",
       "       1, 1, 1, 1, 2, 0, 1, 1, 2, 0, 0, 0, 1, 0, 0, 2, 1, 1, 1, 0, 1, 1,\n",
       "       2, 2, 1, 1, 1, 0, 0, 1, 0, 1, 1, 0, 1, 1, 0, 0, 1, 0, 1, 1, 0, 1,\n",
       "       1, 0, 1, 0, 0, 0, 1, 0, 0, 1, 1, 0, 0, 0, 0, 0, 0, 0, 0, 1, 1, 1,\n",
       "       1, 1, 1, 1, 2, 1, 1, 1, 1, 2, 1, 1, 1, 2, 1, 1, 1, 0, 0, 0, 0, 1,\n",
       "       1, 1, 1, 2, 1, 1, 1, 1, 1, 1, 1, 1, 1, 1, 1, 1, 1, 1, 1, 1, 1, 1,\n",
       "       1, 1])"
      ]
     },
     "execution_count": 30,
     "metadata": {},
     "output_type": "execute_result"
    }
   ],
   "source": [
    "# we set the parameteres n_clusters(number of clusters to form), init(Method for initialization) and random_state(control the random number generator used)\n",
    "kMeans = KMeans(n_clusters = 3,  init='k-means++', random_state=42) \n",
    "labels_kMeans = kMeans.fit_predict(df_norm)\n",
    "print('The predicted clusteres label for our data:')\n",
    "labels_kMeans"
   ]
  },
  {
   "cell_type": "code",
   "execution_count": 39,
   "id": "46824410",
   "metadata": {},
   "outputs": [
    {
     "data": {
      "image/png": "[encoded data removed]",
      "text/plain": [
       "<Figure size 720x432 with 1 Axes>"
      ]
     },
     "metadata": {
      "needs_background": "light"
     },
     "output_type": "display_data"
    }
   ],
   "source": [
    "# Ploting graph to show the clusteres\n",
    "plt.figure(figsize = (10, 6))\n",
    "\n",
    "plt.scatter(df_norm[labels_kMeans == 0,0], df_norm[labels_kMeans == 0,1], s = 100, c = 'Red', label = 'Cluster 1')\n",
    "plt.scatter(df_norm[labels_kMeans == 1,0], df_norm[labels_kMeans == 1,1], s = 100, c = 'blue', label = 'Cluster 2')\n",
    "plt.scatter(df_norm[labels_kMeans == 2,0], df_norm[labels_kMeans == 2,1], s = 100, c = 'green', label = 'Cluster 3')\n",
    "\n",
    "plt.title('Clusters Obtained')\n",
    "\n",
    "plt.legend()\n",
    "plt.show()"
   ]
  },
  {
   "cell_type": "markdown",
   "id": "053c5e1f",
   "metadata": {},
   "source": [
    "## B. Hierarchical Clustering "
   ]
  },
  {
   "cell_type": "code",
   "execution_count": 33,
   "id": "e2217f27",
   "metadata": {},
   "outputs": [],
   "source": [
    "import scipy.cluster.hierarchy as sch"
   ]
  },
  {
   "cell_type": "code",
   "execution_count": 34,
   "id": "c3ebe5e5",
   "metadata": {},
   "outputs": [
    {
     "data": {
      "image/png": "[encoded data removed]",
      "text/plain": [
       "<Figure size 1440x432 with 1 Axes>"
      ]
     },
     "metadata": {
      "needs_background": "light"
     },
     "output_type": "display_data"
    }
   ],
   "source": [
    "# With the help of dendrogram we can find the optimum no.of clusters\n",
    "plt.figure(figsize = (20, 6))\n",
    "\n",
    "dendrogram = sch.dendrogram(sch.linkage(df_norm, method = 'ward'))\n",
    "\n",
    "plt.title('Dendrogram')\n",
    "plt.ylabel('Eculidean Distance')\n",
    "plt.hlines(.4,0,1800,color ='red', linestyle ='dashed')\n",
    "plt.hlines(.53,0,1800,color ='red')\n",
    "plt.hlines(.29,0,1800,color ='red')\n",
    "\n",
    "plt.show()"
   ]
  },
  {
   "cell_type": "code",
   "execution_count": 35,
   "id": "b6429702",
   "metadata": {},
   "outputs": [],
   "source": [
    "# We can find that the line intersect at 3 points(the dashed line) so we can take 3 as our optimum no.of clusteres"
   ]
  },
  {
   "cell_type": "code",
   "execution_count": 36,
   "id": "f7b8a27b",
   "metadata": {},
   "outputs": [
    {
     "name": "stdout",
     "output_type": "stream",
     "text": [
      "The predicted clusteres label for our data:\n"
     ]
    },
    {
     "data": {
      "text/plain": [
       "array([0, 2, 2, 2, 0, 2, 2, 2, 2, 2, 2, 2, 2, 2, 2, 2, 2, 2, 2, 0, 0, 0,\n",
       "       2, 2, 0, 0, 2, 2, 0, 2, 2, 2, 2, 2, 2, 2, 0, 2, 2, 0, 0, 2, 2, 0,\n",
       "       0, 2, 2, 2, 2, 2, 2, 2, 2, 2, 2, 2, 0, 2, 2, 0, 0, 1, 0, 1, 1, 0,\n",
       "       0, 0, 0, 0, 0, 1, 0, 0, 0, 1, 1, 1, 0, 1, 1, 0, 0, 0, 0, 1, 0, 0,\n",
       "       0, 0, 0, 0, 0, 1, 1, 0, 1, 0, 0, 1, 0, 0, 1, 1, 0, 1, 0, 0, 1, 0,\n",
       "       0, 1, 0, 1, 1, 1, 0, 1, 1, 0, 0, 1, 1, 1, 1, 1, 1, 1, 1, 0, 0, 0,\n",
       "       0, 0, 0, 0, 0, 0, 0, 0, 0, 0, 0, 0, 0, 0, 0, 0, 0, 0, 1, 1, 1, 0,\n",
       "       0, 0, 0, 0, 0, 0, 0, 0, 0, 0, 0, 0, 0, 0, 0, 0, 0, 0, 0, 0, 0, 0,\n",
       "       0, 0], dtype=int64)"
      ]
     },
     "execution_count": 36,
     "metadata": {},
     "output_type": "execute_result"
    }
   ],
   "source": [
    "# We set parameteres n_clusters, affinity(Metric used to compute the linkage) and linkage(Which linkage criterion to use).\n",
    "hc = AgglomerativeClustering(n_clusters= 3, affinity='euclidean', linkage='ward')\n",
    "labels_hc = hc.fit_predict(df_norm)\n",
    "print('The predicted clusteres label for our data:')\n",
    "labels_hc"
   ]
  },
  {
   "cell_type": "code",
   "execution_count": 37,
   "id": "0f5b45f9",
   "metadata": {},
   "outputs": [],
   "source": [
    "# Ploting graph to show the clusteres"
   ]
  },
  {
   "cell_type": "code",
   "execution_count": 38,
   "id": "fe0bc8ee",
   "metadata": {},
   "outputs": [
    {
     "data": {
      "image/png": "[encoded data removed]",
      "text/plain": [
       "<Figure size 720x576 with 1 Axes>"
      ]
     },
     "metadata": {
      "needs_background": "light"
     },
     "output_type": "display_data"
    }
   ],
   "source": [
    "plt.figure(figsize = (10, 8))\n",
    "\n",
    "plt.scatter(df_norm[labels_hc == 0,0], df_norm[labels_hc == 0,1], s = 100, c = 'Red', label = 'Cluster 1')\n",
    "plt.scatter(df_norm[labels_hc == 1,0], df_norm[labels_hc == 1,1], s = 100, c = 'blue', label = 'Cluster 2')\n",
    "plt.scatter(df_norm[labels_hc == 2,0], df_norm[labels_hc == 2,1], s = 100, c = 'green', label = 'Cluster 3')\n",
    "\n",
    "plt.title('Clusters Obtained')\n",
    "\n",
    "plt.legend()\n",
    "plt.show()"
   ]
  },
  {
   "cell_type": "code",
   "execution_count": null,
   "id": "66cb08e3",
   "metadata": {},
   "outputs": [],
   "source": []
  }
 ],
 "metadata": {
  "kernelspec": {
   "display_name": "Python 3 (ipykernel)",
   "language": "python",
   "name": "python3"
  },
  "language_info": {
   "codemirror_mode": {
    "name": "ipython",
    "version": 3
   },
   "file_extension": ".py",
   "mimetype": "text/x-python",
   "name": "python",
   "nbconvert_exporter": "python",
   "pygments_lexer": "ipython3",
   "version": "3.9.7"
  }
 },
 "nbformat": 4,
 "nbformat_minor": 5
}
